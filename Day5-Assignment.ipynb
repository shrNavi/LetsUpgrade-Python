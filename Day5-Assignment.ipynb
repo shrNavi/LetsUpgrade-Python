{
 "cells": [
  {
   "cell_type": "code",
   "execution_count": 7,
   "metadata": {},
   "outputs": [
    {
     "name": "stdout",
     "output_type": "stream",
     "text": [
      "[1, 1, 1, 2, 2, 3, 4, 4, 10, 56, 56, 0, 0, 0, 0, 0]\n"
     ]
    }
   ],
   "source": [
    "def move_zero(list1):\n",
    "    list1.sort()\n",
    "    a = [0 for i in range(list1.count(0))]\n",
    "    x = [i for i in list1 if i != 0]\n",
    "    x.extend(a)\n",
    "    return(x)\n",
    "\n",
    "print(move_zero([0,1,2,10,4,1,0,56,2,0,1,3,0,56,0,4]))"
   ]
  },
  {
   "cell_type": "code",
   "execution_count": 6,
   "metadata": {},
   "outputs": [
    {
     "name": "stdout",
     "output_type": "stream",
     "text": [
      "[5, 10, 15, 20, 25, 35, 40, 45, 60, 60, 70, 80]\n"
     ]
    }
   ],
   "source": [
    "list1 = [10,20,40,60,70,80]\n",
    "list2 = [5,15,25,35,45,60]\n",
    "def merge_lists(list1,list2):\n",
    "    list3=[]\n",
    "    while list1 and list2:\n",
    "        if(list1[0]<=list2[0]):\n",
    "            a=list1.pop(0)\n",
    "            list3.append(a)\n",
    "        else:\n",
    "            a=list2.pop(0)\n",
    "            list3.append(a)\n",
    "    list3.extend(list1 if list1 else list2)\n",
    "    return list3\n",
    "print(merge_lists(list1,list2))"
   ]
  },
  {
   "cell_type": "code",
   "execution_count": null,
   "metadata": {},
   "outputs": [],
   "source": []
  },
  {
   "cell_type": "code",
   "execution_count": null,
   "metadata": {},
   "outputs": [],
   "source": []
  }
 ],
 "metadata": {
  "kernelspec": {
   "display_name": "Python 3",
   "language": "python",
   "name": "python3"
  },
  "language_info": {
   "codemirror_mode": {
    "name": "ipython",
    "version": 3
   },
   "file_extension": ".py",
   "mimetype": "text/x-python",
   "name": "python",
   "nbconvert_exporter": "python",
   "pygments_lexer": "ipython3",
   "version": "3.7.6"
  }
 },
 "nbformat": 4,
 "nbformat_minor": 4
}
